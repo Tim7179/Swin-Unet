{
 "cells": [
  {
   "cell_type": "code",
   "execution_count": null,
   "metadata": {},
   "outputs": [],
   "source": [
    "import os\n",
    "import csv\n",
    "import concurrent.futures\n",
    "from tqdm import tqdm\n",
    "\n",
    "CHECKPOINT = \"12-07_15-38\"\n",
    "PREFIX = \"test\"\n",
    "MODEL_FOLDER = f\"../ckpts/{CHECKPOINT}\"\n",
    "OUTPUT_FOLDER = f\"../Predictions/predictions_{PREFIX}_{CHECKPOINT}\"\n",
    "Model_nums = [f[6:-4] for f in os.listdir(MODEL_FOLDER) if f.lower().endswith(('.pth'))]\n",
    "Model_nums.sort()\n",
    "print(\"Models:\", Model_nums)\n",
    "\n",
    "def test_model(epoch):\n",
    "    print(\"Testing:\", epoch)\n",
    "    os.system(f\"python3 test_v3.py --test_epochs {epoch} --model_folder {MODEL_FOLDER} --output_folder {OUTPUT_FOLDER} --prefix {PREFIX}\")\n",
    "\n",
    "# Set Max Threads\n",
    "\n",
    "os.environ[\"OMP_NUM_THREADS\"] = \"24\"\n",
    "\n",
    "# Use concurrent.futures.ThreadPoolExecutor to run tests concurrently\n",
    "with concurrent.futures.ThreadPoolExecutor() as executor:\n",
    "    executor.map(test_model, Model_nums)\n",
    "\n",
    "\n",
    "# Merge Parameters files\n",
    "# Create a new CSV file to store the merged parameters\n",
    "with open(f\"{OUTPUT_FOLDER}/{CHECKPOINT}_{PREFIX}_all_miou.csv\", \"a\") as f:\n",
    "    csv_writer = csv.writer(f)\n",
    "    csv_writer.writerow([\"Epoch\", \"Mean_Iou\", \"Mean_Dice\", \"Mean_hd95\"])\n",
    "\n",
    "for epoch in tqdm(Model_nums):\n",
    "    with open(f\"{OUTPUT_FOLDER}/predictions_{epoch}/{epoch}_{PREFIX}_miou.csv\", \"r\") as f:\n",
    "        csv_reader = csv.reader(f)\n",
    "        \n",
    "        for row in csv_reader:\n",
    "            if row[0] == \"Average\":\n",
    "                with open(f\"{OUTPUT_FOLDER}/{CHECKPOINT}_{PREFIX}_all_miou.csv\", \"a\") as f:\n",
    "                    csv_writer = csv.writer(f)\n",
    "                    csv_writer.writerow([epoch, row[1], row[2], row[3]])\n",
    "\n",
    "print(\"Merged CSV file created:\", f\"{OUTPUT_FOLDER}/{CHECKPOINT}_{PREFIX}_all_miou.csv\")"
   ]
  }
 ],
 "metadata": {
  "language_info": {
   "name": "python"
  }
 },
 "nbformat": 4,
 "nbformat_minor": 2
}
