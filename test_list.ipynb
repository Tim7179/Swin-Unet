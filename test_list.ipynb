{
 "cells": [
  {
   "cell_type": "code",
   "execution_count": null,
   "metadata": {},
   "outputs": [],
   "source": [
    "import os\n",
    "MODEL_FOLDER = \"../ckpts/12-08_00-05\"\n",
    "\n",
    "Model_nums = [f for f in os.listdir(MODEL_FOLDER) if f.lower().endswith(('.pth'))]\n",
    "\n",
    "print(\"Models:\",Model_nums)\n",
    "\n",
    "for epoch in Model_nums:\n",
    "    epoch = epoch[6:-4]\n",
    "    print(\"test:\", epoch)\n",
    "    !python3 test_v3.py --test_epochs $epoch --model_folder $MODEL_FOLDER"
   ]
  }
 ],
 "metadata": {
  "language_info": {
   "name": "python"
  }
 },
 "nbformat": 4,
 "nbformat_minor": 2
}
